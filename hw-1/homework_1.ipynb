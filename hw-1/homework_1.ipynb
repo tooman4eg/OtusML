{
 "cells": [
  {
   "cell_type": "markdown",
   "metadata": {},
   "source": [
    "# <center> Homework 1 </center>"
   ]
  },
  {
   "cell_type": "markdown",
   "metadata": {},
   "source": [
    "# 0. Где мы сейчас?\n",
    "<img src=\"https://upload.wikimedia.org/wikipedia/commons/thumb/3/38/Jupyter_logo.svg/1200px-Jupyter_logo.svg.png\" width=\"150\">\n",
    "\n",
    "[Jupyter Notebook](https://jupyter.org/) - интерактивная среда для запуска программного кода в браузере. Удобный инструмент для анализа данных, который используется многими специалистами по data science. Позволяет выполнять отдельные ячейки с кодом, а не всю программу сразу, что очень удобно при знакомстве с данными."
   ]
  },
  {
   "cell_type": "markdown",
   "metadata": {},
   "source": [
    "# 1. Python\n",
    "> Python - это свободный интерпретируемый объектно-ориентированный расширяемый встраиваемый язык программирования очень высокого уровня \n",
    "\n",
    ">*(Г.Россум, Ф.Л.Дж.Дрейк, Д.С.Откидач \"Язык программирования Python\").*\n",
    "\n",
    "А если без цитат, то питон - это просто очень крутой язык, созданный в 1991 году [Великодушным пожизненным диктатором](https://ru.wikipedia.org/wiki/%D0%92%D0%B5%D0%BB%D0%B8%D0%BA%D0%BE%D0%B4%D1%83%D1%88%D0%BD%D1%8B%D0%B9_%D0%BF%D0%BE%D0%B6%D0%B8%D0%B7%D0%BD%D0%B5%D0%BD%D0%BD%D1%8B%D0%B9_%D0%B4%D0%B8%D0%BA%D1%82%D0%B0%D1%82%D0%BE%D1%80) Гвидо ван Россумом и названный в честь любимого им шоу [Monty Python's Flying Circus](https://en.wikipedia.org/wiki/Monty_Python%27s_Flying_Circus)\n",
    "\n",
    "<img src=\"https://advancelocal-adapter-image-uploads.s3.amazonaws.com/image.oregonlive.com/home/olive-media/width2048/img/tv/photo/2018/10/10/montycastjpg-7ef393e2355a42aa.jpg\" width=\"300\">"
   ]
  },
  {
   "cell_type": "markdown",
   "metadata": {},
   "source": [
    "# 2. Anaconda\n",
    "\n",
    "<img src=\"https://cdn-images-1.medium.com/max/1600/0*MVkCW8_Bmj-nuAnI.png\" width=\"300\">\n",
    "\n",
    "[Сборка Anaconda](https://www.anaconda.com/products/individual) включает очень много полезных библиотек для анализа данных. \n",
    "\n",
    "Среди наиболее популярных библиотек:\n",
    " - <a href=\"http://numpy.org\">Numpy</a> - это один из основных пакетов для математических вычислений. Он содержит средства для работы с многомерными массивами и высокоуровневыми математическими функциями\n",
    " - <a href=\"https://www.scipy.org/\">SciPy</a> - научные вычисления. Методы оптимизации, интегрирования, модули обработки сигналов и изображений, статистика, линейная алгебра, сплайны, кластеризация и многое другое\n",
    " -  <a href=\"http://pandas.pydata.org/\">Pandas</a> - основная библиотека для обработки и анализа данных. Предназначена для данных разной природы - матричных, панельных данных, временных рядов. Претендует на звание самого мощного и гибкого средства для анализа данных с открытым исходным кодом\n",
    " - <a href=\"http://scikit-learn.org/stable/\">Scikit-learn</a> - реализация очень многих методов машинного обучения с отличной документацией. \n",
    " - <a href=\"http://http://matplotlib.org/\">matplotlib</a> - хорошая библиотека для визуализации данных"
   ]
  },
  {
   "cell_type": "markdown",
   "metadata": {},
   "source": [
    "# 3. Задачки"
   ]
  },
  {
   "cell_type": "markdown",
   "metadata": {},
   "source": [
    "## Задача 1\n",
    "$N$ хоббитов делят $K$ кусков эльфийского хлеба поровну, не делящийся нацело остаток остается в корзинке у Сэма. Напишите функцию, которая принимает на вход параметры $N$ и $K$ и возвращает два числа: $x$ - cколько кусков эльфиского хлеба достанется каждому хоббиту, и $y$ - сколько кусков остаётся в корзинке."
   ]
  },
  {
   "cell_type": "code",
   "execution_count": 12,
   "metadata": {},
   "outputs": [],
   "source": [
    "def share_bread(N, K):\n",
    "    #деление на цело\n",
    "    x = K // N\n",
    "    №остаток от деления\n",
    "    y = K % N\n",
    "    \n",
    "    return K//N, y\n",
    "\n",
    "# если в функции всё верно, то после выполнения этой строчки, не должно выскакивать ошибок\n",
    "assert share_bread(N=3, K=14) == (4, 2)"
   ]
  },
  {
   "cell_type": "markdown",
   "metadata": {},
   "source": [
    "## Задача 2\n",
    "\n",
    "В копях Мории хоббиты нашли стену, на которой высечены разные натуральные числа. Согласно древним сказаниям, это даты сражений. Хоббиты знают, что сражения происходили только по високосным годам. Помогите хоббитам определить, является ли год с данным числом датой великого сражения. Если это так, то верните строку \"YOU SHALL PASS\", иначе верните \"YOU SHALL NOT PASS\". Напомним, что в соответствии с хоббитским календарем, год является високосным, если его номер кратен 4, но не кратен 100, а также если он кратен 400."
   ]
  },
  {
   "cell_type": "code",
   "execution_count": 20,
   "metadata": {},
   "outputs": [
    {
     "name": "stdout",
     "output_type": "stream",
     "text": [
      "5\n"
     ]
    }
   ],
   "source": [
    "def leap_year(year):    \n",
    "    if (year % 4 == 0 and year % 100 != 0 ) or year % 400 == 0:\n",
    "        text_result =  \"YOU SHALL PASS\"\n",
    "    else: \n",
    "        text_result = \"YOU SHALL NOT PASS\"\n",
    "    return text_result\n",
    "\n",
    "assert leap_year(5) == 'YOU SHALL NOT PASS'"
   ]
  },
  {
   "cell_type": "markdown",
   "metadata": {},
   "source": [
    "## Задача 3\n",
    "<img src=\"http://i0.kym-cdn.com/photos/images/original/001/187/255/5e9.gif\" width=300>\n",
    "Для могущественного магического ритуала Гендальфу необходимо быстро подсчитывать площадь своего амулета, который умеет менять размеры. Известно, что амулет имеет форму треугольника и Гендальф знает длину каждой из сторон. Напишите функцию, которая считает площадь амулета по трем сторонам.  \n",
    "\n",
    "Подсказка: используйте формулу Герона\n",
    "$$ S = \\sqrt{p(p-a)(p-b)(p-c)} $$\n",
    "$$ p = \\frac{a + b + c}{2}$$\n"
   ]
  },
  {
   "cell_type": "code",
   "execution_count": 1,
   "metadata": {},
   "outputs": [],
   "source": [
    "def amulet_area(a, b, c):\n",
    "    p = (a+b+c)/2\n",
    "    S =  (p*(p-a)*(p-b)*(p-c)) ** (0.5)\n",
    "    return S\n",
    "\n",
    "assert amulet_area(3, 4, 5) == 6"
   ]
  },
  {
   "cell_type": "markdown",
   "metadata": {},
   "source": [
    "## Задача 4\n",
    "\n",
    "Хоббиты собираются пешком идти до Мордора и им нужно подсчитать расстояние, которое им предстоит пройти. Хоббиты смогли вспомнить сразу несколько метрик расстояния: евклидово, манхэттена и косинусное, так что ваша задача - напистаь функцию под каждую из них. Важное условие - используйте только базовые функции numpy для решения.\n",
    "\n",
    "\n",
    "* Евклидово расстояние\n",
    "$$ d(a, b) = \\sqrt{\\sum_i (a_i - b_i)^2} $$\n",
    "* Расстояние Манхэттена\n",
    "$$ d(a, b) = \\sum_i |a_i - b_i| $$\n",
    "* Косинусное расстояние\n",
    "$$ d(a, b) = 1 - \\frac{a^\\top b}{||a||_2\\cdot||b||_2}$$"
   ]
  },
  {
   "cell_type": "code",
   "execution_count": 1,
   "metadata": {},
   "outputs": [
    {
     "name": "stdout",
     "output_type": "stream",
     "text": [
      "28.0\n",
      "74\n",
      "[-14   1  57 -20   6  31  46  -7  -9  22]\n"
     ]
    }
   ],
   "source": [
    "import numpy as np\n",
    "def cal_euclidean(a, b):    \n",
    "    sum = 0\n",
    "    for i in range (len(a)):\n",
    "        sum += (a[i]-b[i])**2\n",
    "#         print(sum)    \n",
    "    \n",
    "    distance = (sum)**0.5\n",
    "#     print(distance)    \n",
    "    return distance\n",
    "\n",
    "def cal_manhattan(a, b):  \n",
    "    sum = 0\n",
    "    for i in range (len(a)):\n",
    "        sum += abs(a[i]-b[i])\n",
    "\n",
    "    return sum\n",
    "\n",
    "def cal_cosine(a, b):    \n",
    "    sum = 1\n",
    "    a_transparent = a.transpose()\n",
    "    \n",
    "    for i in range (len(a)):\n",
    "        sum += abs(a[i]-b[i])\n",
    "        \n",
    "    distance = 1 - a_transparent *b\n",
    "    return distance\n",
    "\n",
    "a = np.random.randint(-10, 10, size=10)\n",
    "b = np.random.randint(-10, 10, size=10)\n",
    "print(cal_euclidean(a, b))\n",
    "print(cal_manhattan(a, b))\n",
    "print(cal_cosine(a, b))"
   ]
  },
  {
   "cell_type": "code",
   "execution_count": null,
   "metadata": {},
   "outputs": [],
   "source": [
    "a = np.random.randint(-10, 10, size=10)\n",
    "b = np.random.randint(-10, 10, size=10)\n",
    "print(cal_euclidean(a, b))\n",
    "print(cal_manhattan(a, b))\n",
    "print(cal_cosine(a, b))"
   ]
  },
  {
   "cell_type": "markdown",
   "metadata": {},
   "source": [
    "## Задача 5\n",
    "\n",
    "Ну и напоследок, еще немного практики numpy, без которой не обходится ни один хоббит.\n"
   ]
  },
  {
   "cell_type": "markdown",
   "metadata": {},
   "source": [
    "Создайте случайный array (`np.random.rand()`) длинной 100. Преобразуйте его так, чтобы\n",
    "* Максимальный элемент(ы) был равен 1\n",
    "* Минимальный элемент(ы) был равен 0\n",
    "* Остальные элементы в итнтервале от 0 до 1 остаются прежними"
   ]
  },
  {
   "cell_type": "code",
   "execution_count": 19,
   "metadata": {},
   "outputs": [
    {
     "name": "stdout",
     "output_type": "stream",
     "text": [
      "[0.6549381  0.08628945 0.52473199 0.83947254 0.64022752 0.17607528\n",
      " 0.10227087 0.16111822 0.79121335 0.58568854 0.43445888 0.44833702\n",
      " 0.08565804 0.10778931 0.53500435 0.73891421 0.37784825 0.8111256\n",
      " 0.15614201 0.81950218 0.81390239 0.57095599 0.05471266 0.94546331\n",
      " 0.51906104 0.45700165 0.66852961 0.31347394 0.33808897 0.37501017\n",
      " 0.90973664 0.94808539 0.71195316 0.11806438 0.80737808 0.74297155\n",
      " 0.60423159 0.17080589 0.13400346 0.55022446 0.4811088  0.60378255\n",
      " 0.16369039 0.51687988 0.34511579 0.05545767 0.30202489 0.12422812\n",
      " 0.09701478 0.81110578 0.40777266 0.73606105 0.47545578 0.05303242\n",
      " 0.34786017 0.31090131 0.04361048 0.50143099 0.16300301 0.30975445\n",
      " 0.32673989 0.12778205 0.81192594 0.38561872 0.21761427 0.54848942\n",
      " 0.49532422 0.51873662 0.87390104 0.95717228 0.22649944 0.70469758\n",
      " 0.67513428 0.93294607 0.18857318 0.1623059  0.69800889 0.08360517\n",
      " 0.75124253 0.55492508 0.81955253 0.6343856  0.67882072 0.56877152\n",
      " 0.14214998 0.47283439 0.34002202 0.56580593 0.96311941 0.86584634\n",
      " 0.390043   0.61283583 0.07146157 0.00211509 0.61746512 0.82164755\n",
      " 0.17666292 0.67082136 0.74635048 0.7795019 ]\n",
      "[0.6549381  0.08628945 0.52473199 0.83947254 0.64022752 0.17607528\n",
      " 0.10227087 0.16111822 0.79121335 0.58568854 0.43445888 0.44833702\n",
      " 0.08565804 0.10778931 0.53500435 0.73891421 0.37784825 0.8111256\n",
      " 0.15614201 0.81950218 0.81390239 0.57095599 0.05471266 0.94546331\n",
      " 0.51906104 0.45700165 0.66852961 0.31347394 0.33808897 0.37501017\n",
      " 0.90973664 0.94808539 0.71195316 0.11806438 0.80737808 0.74297155\n",
      " 0.60423159 0.17080589 0.13400346 0.55022446 0.4811088  0.60378255\n",
      " 0.16369039 0.51687988 0.34511579 0.05545767 0.30202489 0.12422812\n",
      " 0.09701478 0.81110578 0.40777266 0.73606105 0.47545578 0.05303242\n",
      " 0.34786017 0.31090131 0.04361048 0.50143099 0.16300301 0.30975445\n",
      " 0.32673989 0.12778205 0.81192594 0.38561872 0.21761427 0.54848942\n",
      " 0.49532422 0.51873662 0.87390104 0.95717228 0.22649944 0.70469758\n",
      " 0.67513428 0.93294607 0.18857318 0.1623059  0.69800889 0.08360517\n",
      " 0.75124253 0.55492508 0.81955253 0.6343856  0.67882072 0.56877152\n",
      " 0.14214998 0.47283439 0.34002202 0.56580593 1.         0.86584634\n",
      " 0.390043   0.61283583 0.07146157 0.         0.61746512 0.82164755\n",
      " 0.17666292 0.67082136 0.74635048 0.7795019 ]\n"
     ]
    }
   ],
   "source": [
    "import numpy as np \n",
    "\n",
    "my_array = np.random.rand(100)\n",
    "print(my_array)\n",
    "min = np.amin(my_array)\n",
    "max = np.amax(my_array)    \n",
    "\n",
    "my_array = np.where(my_array == min, 0, my_array)\n",
    "my_array = np.where(my_array == max, 1, my_array)   \n",
    "\n",
    "print(my_array)"
   ]
  },
  {
   "cell_type": "markdown",
   "metadata": {},
   "source": [
    "Создайте array размером $5 \\times 6$ с целыми числами в интервале [0,50]. Напечатайте колонку, которая содержит максимальный элемент полученной матрицы "
   ]
  },
  {
   "cell_type": "code",
   "execution_count": 22,
   "metadata": {},
   "outputs": [
    {
     "name": "stdout",
     "output_type": "stream",
     "text": [
      "Shape:  (5, 6)\n",
      "Array\n",
      "[[33 43 16 29 16 36]\n",
      " [ 7 47 47 32 10 45]\n",
      " [ 0 27  2 10  8 27]\n",
      " [45 26  3 41 12 10]\n",
      " [35 34 44  8  3  2]]\n",
      "47\n"
     ]
    }
   ],
   "source": [
    "import numpy as np \n",
    "\n",
    "my_array  = np.random.randint(0, 50, 30).reshape(5, 6)\n",
    "selected_column =np.max(my_array)\n",
    "\n",
    "print('Shape: ',my_array.shape)\n",
    "print('Array')\n",
    "print(my_array)\n",
    "print(selected_column)"
   ]
  },
  {
   "cell_type": "markdown",
   "metadata": {},
   "source": [
    "Напишите функцию, которая принимает на вохд матрицу (array) X и возвращает все её уникальные строки в виде новой матрицы."
   ]
  },
  {
   "cell_type": "code",
   "execution_count": null,
   "metadata": {},
   "outputs": [],
   "source": [
    "def get_unique_rows(X):\n",
    "    # Your code here\n",
    "    return X_unique"
   ]
  },
  {
   "cell_type": "code",
   "execution_count": 15,
   "metadata": {},
   "outputs": [
    {
     "name": "stdout",
     "output_type": "stream",
     "text": [
      "[[4 5 4]\n",
      " [4 4 4]\n",
      " [4 4 5]\n",
      " [5 5 4]\n",
      " [5 4 4]\n",
      " [5 5 5]\n",
      " [4 4 4]\n",
      " [4 5 4]\n",
      " [4 5 4]\n",
      " [5 4 5]]\n"
     ]
    }
   ],
   "source": [
    "X = np.random.randint(4, 6, size=(10,3))\n",
    "print(X)"
   ]
  },
  {
   "cell_type": "code",
   "execution_count": null,
   "metadata": {},
   "outputs": [],
   "source": [
    "get_unique_rows(X)"
   ]
  }
 ],
 "metadata": {
  "kernelspec": {
   "display_name": "Python 3",
   "language": "python",
   "name": "python3"
  },
  "language_info": {
   "codemirror_mode": {
    "name": "ipython",
    "version": 3
   },
   "file_extension": ".py",
   "mimetype": "text/x-python",
   "name": "python",
   "nbconvert_exporter": "python",
   "pygments_lexer": "ipython3",
   "version": "3.8.3"
  },
  "varInspector": {
   "cols": {
    "lenName": 16,
    "lenType": 16,
    "lenVar": 40
   },
   "kernels_config": {
    "python": {
     "delete_cmd_postfix": "",
     "delete_cmd_prefix": "del ",
     "library": "var_list.py",
     "varRefreshCmd": "print(var_dic_list())"
    },
    "r": {
     "delete_cmd_postfix": ") ",
     "delete_cmd_prefix": "rm(",
     "library": "var_list.r",
     "varRefreshCmd": "cat(var_dic_list()) "
    }
   },
   "types_to_exclude": [
    "module",
    "function",
    "builtin_function_or_method",
    "instance",
    "_Feature"
   ],
   "window_display": false
  }
 },
 "nbformat": 4,
 "nbformat_minor": 2
}
